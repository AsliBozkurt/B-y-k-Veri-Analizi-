{
  "cells": [
    {
      "cell_type": "code",
      "execution_count": null,
      "metadata": {
        "colab": {
          "base_uri": "https://localhost:8080/"
        },
        "id": "dudAi76wV9HY",
        "outputId": "7ab721d6-c285-417c-ba22-37982429176d"
      },
      "outputs": [
        {
          "name": "stdout",
          "output_type": "stream",
          "text": [
            "Drive already mounted at /content/drive; to attempt to forcibly remount, call drive.mount(\"/content/drive\", force_remount=True).\n"
          ]
        }
      ],
      "source": [
        "# drive dosya erişim\n",
        "from google.colab import drive\n",
        "drive.mount('/content/drive')"
      ]
    },
    {
      "cell_type": "code",
      "execution_count": null,
      "metadata": {
        "id": "Xwp4KodOahM_"
      },
      "outputs": [],
      "source": [
        "#Kütüphane import edildi\n",
        "import numpy as np\n",
        "import matplotlib.pyplot as plt\n",
        "import pandas as pd\n",
        "from sklearn.model_selection import train_test_split\n",
        "from sklearn.preprocessing import StandardScaler\n",
        "from sklearn.tree import DecisionTreeClassifier\n",
        "from sklearn import metrics\n",
        "from sklearn.metrics import confusion_matrix\n",
        "from matplotlib.colors import ListedColormap"
      ]
    },
    {
      "cell_type": "code",
      "execution_count": null,
      "metadata": {
        "colab": {
          "base_uri": "https://localhost:8080/"
        },
        "id": "EK95mKeBa_G3",
        "outputId": "9a9a85ee-1612-4b0f-96ec-2af64b744224"
      },
      "outputs": [
        {
          "name": "stdout",
          "output_type": "stream",
          "text": [
            "     UserID Gender  Age  EstimatedSalary  Purchased\n",
            "0  15624510  Erkek   19            19000          0\n",
            "1  15810944  Erkek   35            20000          0\n",
            "2  15668575  Kadın   26            43000          0\n",
            "3  15603246  Kadın   27            57000          0\n",
            "4  15804002  Erkek   19            76000          0\n"
          ]
        }
      ],
      "source": [
        "#veri içeri aktarıldı\n",
        "data = pd.read_csv(\"/content/drive/MyDrive/Regresyon_Kümeleme_Sınıflandırma_Data/decision_tree.csv\")\n",
        "#başlıklar bastırıldı\n",
        "print(data.head())\n"
      ]
    },
    {
      "cell_type": "code",
      "execution_count": null,
      "metadata": {
        "id": "AzWYTBvMbRem"
      },
      "outputs": [],
      "source": [
        "#ilk 4 veri setini ve verinin parametreleri alındı\n",
        "X = data.iloc[:,[2,3]].values\n",
        "y = data.iloc[:,4].values"
      ]
    },
    {
      "cell_type": "code",
      "execution_count": null,
      "metadata": {
        "id": "rswavckIbZKa"
      },
      "outputs": [],
      "source": [
        "#eğitim ve test veri setleri oluşturuldu\n",
        "X_train, X_test, y_train, y_test = train_test_split(X,y,test_size = 0.25, random_state= 0)\n",
        "sc_X = StandardScaler()\n",
        "X_train = sc_X.fit_transform(X_train)\n",
        "X_test = sc_X.transform(X_test)"
      ]
    },
    {
      "cell_type": "code",
      "execution_count": null,
      "metadata": {
        "id": "4CJY2Y4ebaVY"
      },
      "outputs": [],
      "source": [
        "#kara ağacı fonksiyonumuzu çağırdım\n",
        "classifier = DecisionTreeClassifier()\n",
        "classifier = classifier.fit(X_train,y_train)\n"
      ]
    },
    {
      "cell_type": "code",
      "execution_count": null,
      "metadata": {
        "colab": {
          "base_uri": "https://localhost:8080/"
        },
        "id": "egO0PJVJbcrR",
        "outputId": "07a85c2a-fb77-435a-e446-fb5757fb8d26"
      },
      "outputs": [
        {
          "name": "stdout",
          "output_type": "stream",
          "text": [
            "Doğruluk payı 0.9\n",
            "[[62  6]\n",
            " [ 4 28]]\n"
          ]
        }
      ],
      "source": [
        "#doğruluk payımızın ne kadar olduğunu kontrol ettim\n",
        "y_pred = classifier.predict(X_test)\n",
        "print('Doğruluk payı', metrics.accuracy_score(y_test,y_pred))\n",
        "cm = confusion_matrix(y_test, y_pred)\n",
        "print(cm)"
      ]
    },
    {
      "cell_type": "code",
      "execution_count": null,
      "metadata": {
        "colab": {
          "base_uri": "https://localhost:8080/",
          "height": 528
        },
        "id": "A8aT9SW1bgq0",
        "outputId": "8c3abf07-3814-48c7-ef77-b072d22d146c"
      },
      "outputs": [
        {
          "name": "stderr",
          "output_type": "stream",
          "text": [
            "<ipython-input-10-ed430b67a65a>:8: UserWarning: *c* argument looks like a single numeric RGB or RGBA sequence, which should be avoided as value-mapping will have precedence in case its length matches with *x* & *y*.  Please use the *color* keyword-argument or provide a 2D array with a single row if you intend to specify the same RGB or RGBA value for all points.\n",
            "  plt.scatter(X_set[y_set==j,0],X_set[y_set==j,1], c = ListedColormap((\"gray\",\"red\"))(i),label = j)\n"
          ]
        },
        {
          "data": {
            "image/png": "[encoded data removed]",
            "text/plain": [
              "<Figure size 640x480 with 1 Axes>"
            ]
          },
          "metadata": {},
          "output_type": "display_data"
        }
      ],
      "source": [
        "#Veri setlerimiziden oluşturulan modeli görselleştirdim\n",
        "X_set, y_set = X_test, y_test\n",
        "X1, X2 = np.meshgrid(np.arange(start = X_set[:,0].min()-1, stop= X_set[:,0].max()+1, step = 0.01),np.arange(start = X_set[:,1].min()-1, stop= X_set[:,1].max()+1, step = 0.01))\n",
        "plt.contourf(X1,X2, classifier.predict(np.array([X1.ravel(), X2.ravel()]).T).reshape(X1.shape), alpha=0.75, cmap = ListedColormap((\"white\",\"black\")))\n",
        "plt.xlim(X1.min(), X1.max())\n",
        "plt.ylim(X2.min(), X2.max())\n",
        "for i,j in enumerate(np.unique(y_set)):\n",
        " plt.scatter(X_set[y_set==j,0],X_set[y_set==j,1], c = ListedColormap((\"gray\",\"red\"))(i),label = j)\n",
        "plt.title(\"Karar Ağacı\")\n",
        "plt.xlabel(\"Tahmini Yaş\")\n",
        "plt.ylabel(\"Maaş\")\n",
        "plt.legend()\n",
        "plt.show()"
      ]
    }
  ],
  "metadata": {
    "colab": {
      "provenance": []
    },
    "kernelspec": {
      "display_name": "Python 3",
      "name": "python3"
    },
    "language_info": {
      "name": "python"
    }
  },
  "nbformat": 4,
  "nbformat_minor": 0
}
